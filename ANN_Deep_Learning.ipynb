{
  "nbformat": 4,
  "nbformat_minor": 0,
  "metadata": {
    "colab": {
      "provenance": [],
      "gpuType": "T4",
      "mount_file_id": "1tlWSx6CSF725oUE2DetaSPQqGuHif7r8",
      "authorship_tag": "ABX9TyODzoQFuw1WuAS/5IQB18Wf",
      "include_colab_link": true
    },
    "kernelspec": {
      "name": "python3",
      "display_name": "Python 3"
    },
    "language_info": {
      "name": "python"
    },
    "accelerator": "GPU"
  },
  "cells": [
    {
      "cell_type": "markdown",
      "metadata": {
        "id": "view-in-github",
        "colab_type": "text"
      },
      "source": [
        "<a href=\"https://colab.research.google.com/github/dipta19062021/MachineLearning_librarie/blob/main/ANN_Deep_Learning.ipynb\" target=\"_parent\"><img src=\"https://colab.research.google.com/assets/colab-badge.svg\" alt=\"Open In Colab\"/></a>"
      ]
    },
    {
      "cell_type": "code",
      "execution_count": null,
      "metadata": {
        "colab": {
          "base_uri": "https://localhost:8080/"
        },
        "id": "PVG4SPPRywGX",
        "outputId": "b9a46538-29cb-4ebd-c6c2-fc60a3ab4040"
      },
      "outputs": [
        {
          "output_type": "stream",
          "name": "stdout",
          "text": [
            "Drive already mounted at /content/drive; to attempt to forcibly remount, call drive.mount(\"/content/drive\", force_remount=True).\n"
          ]
        }
      ],
      "source": [
        "from google.colab import drive\n",
        "drive.mount('/content/drive')"
      ]
    },
    {
      "cell_type": "code",
      "source": [
        "!pip install -q keras"
      ],
      "metadata": {
        "id": "iuTQmpBB1dee"
      },
      "execution_count": null,
      "outputs": []
    },
    {
      "cell_type": "markdown",
      "source": [
        "# New section"
      ],
      "metadata": {
        "id": "T6QKq9Zy1BUs"
      }
    },
    {
      "cell_type": "code",
      "source": [
        "import tensorflow as tf\n",
        "tf.test.gpu_device_name()"
      ],
      "metadata": {
        "colab": {
          "base_uri": "https://localhost:8080/",
          "height": 36
        },
        "id": "5eb0GxlgyzMO",
        "outputId": "6e6623c5-d635-4c56-e548-9f1f01489c6c"
      },
      "execution_count": null,
      "outputs": [
        {
          "output_type": "execute_result",
          "data": {
            "text/plain": [
              "'/device:GPU:0'"
            ],
            "application/vnd.google.colaboratory.intrinsic+json": {
              "type": "string"
            }
          },
          "metadata": {},
          "execution_count": 2
        }
      ]
    },
    {
      "cell_type": "code",
      "source": [],
      "metadata": {
        "id": "L2st0I3R26Xm"
      },
      "execution_count": null,
      "outputs": []
    },
    {
      "cell_type": "code",
      "source": [
        "from tensorflow.python.client import device_lib\n",
        "device_lib.list_local_devices()"
      ],
      "metadata": {
        "colab": {
          "base_uri": "https://localhost:8080/"
        },
        "id": "HrzgA8rv2smU",
        "outputId": "e024f440-dd18-4404-e964-732059a0cdbe"
      },
      "execution_count": null,
      "outputs": [
        {
          "output_type": "execute_result",
          "data": {
            "text/plain": [
              "[name: \"/device:CPU:0\"\n",
              " device_type: \"CPU\"\n",
              " memory_limit: 268435456\n",
              " locality {\n",
              " }\n",
              " incarnation: 13636468578431106897\n",
              " xla_global_id: -1,\n",
              " name: \"/device:GPU:0\"\n",
              " device_type: \"GPU\"\n",
              " memory_limit: 14626652160\n",
              " locality {\n",
              "   bus_id: 1\n",
              "   links {\n",
              "   }\n",
              " }\n",
              " incarnation: 17412713647337222420\n",
              " physical_device_desc: \"device: 0, name: Tesla T4, pci bus id: 0000:00:04.0, compute capability: 7.5\"\n",
              " xla_global_id: 416903419]"
            ]
          },
          "metadata": {},
          "execution_count": 3
        }
      ]
    },
    {
      "cell_type": "code",
      "source": [
        "# prompt:\n",
        "\n",
        "print(tf.config.experimental.list_physical_devices('GPU'))\n"
      ],
      "metadata": {
        "colab": {
          "base_uri": "https://localhost:8080/"
        },
        "id": "gGfQKkW33EZn",
        "outputId": "ec5acaa6-2bb4-48cd-8b4d-af5bbe4dd080"
      },
      "execution_count": null,
      "outputs": [
        {
          "output_type": "stream",
          "name": "stdout",
          "text": [
            "[PhysicalDevice(name='/physical_device:GPU:0', device_type='GPU')]\n"
          ]
        }
      ]
    },
    {
      "cell_type": "code",
      "source": [
        "import numpy as np\n",
        "import matplotlib.pyplot as plt\n",
        "import pandas as pd\n",
        "\n",
        "# Importing the dataset\n",
        "dataset = pd.read_csv('/content/drive/MyDrive/ANN/Churn_Modelling.csv')\n",
        "X = dataset.iloc[:, 3:13]\n",
        "y = dataset.iloc[:, 13]\n",
        "\n",
        "#Create dummy variables\n",
        "geography=pd.get_dummies(X[\"Geography\"],drop_first=True)\n",
        "gender=pd.get_dummies(X['Gender'],drop_first=True)\n",
        "\n",
        "## Concatenate the Data Frames\n",
        "\n",
        "X=pd.concat([X,geography,gender],axis=1)\n",
        "\n",
        "## Drop Unnecessary columns\n",
        "X=X.drop(['Geography','Gender'],axis=1)\n",
        "\n",
        "# Splitting the dataset into the Training set and Test set\n",
        "from sklearn.model_selection import train_test_split\n",
        "X_train, X_test, y_train, y_test = train_test_split(X, y, test_size = 0.2, random_state = 0)\n",
        "\n",
        "# Feature Scaling\n",
        "from sklearn.preprocessing import StandardScaler\n",
        "sc = StandardScaler()\n",
        "X_train = sc.fit_transform(X_train)\n",
        "X_test = sc.transform(X_test)\n",
        "\n",
        "# Part 2 - Now let's make the ANN!\n",
        "\n",
        "# Importing the Keras libraries and packages\n",
        "import keras\n",
        "from keras.models import Sequential\n",
        "from keras.layers import Dense\n",
        "from keras.layers import LeakyReLU,PReLU,ELU\n",
        "from keras.layers import Dropout\n",
        "\n",
        "\n",
        "# Initialising the ANN\n",
        "classifier = Sequential()\n",
        "\n",
        "# Adding the input layer and the first hidden layer\n",
        "classifier.add(Dense(units = 6, kernel_initializer= = 'he_uniform',activation='relu',input_dim = 11))\n",
        "\n",
        "# Adding the second hidden layer\n",
        "classifier.add(Dense(output_dim = 6, init = 'he_uniform',activation='relu'))\n",
        "# Adding the output layer\n",
        "classifier.add(Dense(output_dim = 1, init = 'glorot_uniform', activation = 'sigmoid'))\n",
        "\n",
        "# Compiling the ANN\n",
        "classifier.compile(optimizer = 'Adamax', loss = 'binary_crossentropy', metrics = ['accuracy'])\n",
        "\n",
        "# Fitting the ANN to the Training set\n",
        "model_history=classifier.fit(X_train, y_train,validation_split=0.33, batch_size = 10, nb_epoch = 100)\n",
        "\n",
        "# list all data in history\n",
        "\n",
        "print(model_history.history.keys())\n",
        "# summarize history for accuracy\n",
        "plt.plot(model_history.history['acc'])\n",
        "plt.plot(model_history.history['val_acc'])\n",
        "plt.title('model accuracy')\n",
        "plt.ylabel('accuracy')\n",
        "plt.xlabel('epoch')\n",
        "plt.legend(['train', 'test'], loc='upper left')\n",
        "plt.show()\n",
        "\n",
        "# summarize history for loss\n",
        "plt.plot(model_history.history['loss'])\n",
        "plt.plot(model_history.history['val_loss'])\n",
        "plt.title('model loss')\n",
        "plt.ylabel('loss')\n",
        "plt.xlabel('epoch')\n",
        "plt.legend(['train', 'test'], loc='upper left')\n",
        "plt.show()\n",
        "\n",
        "# Part 3 - Making the predictions and evaluating the model\n",
        "\n",
        "# Predicting the Test set results\n",
        "y_pred = classifier.predict(X_test)\n",
        "y_pred = (y_pred > 0.5)\n",
        "\n",
        "# Making the Confusion Matrix\n",
        "from sklearn.metrics import confusion_matrix\n",
        "cm = confusion_matrix(y_test, y_pred)\n",
        "\n",
        "# Calculate the Accuracy\n",
        "from sklearn.metrics import accuracy_score\n",
        "score=accuracy_score(y_pred,y_test)"
      ],
      "metadata": {
        "colab": {
          "base_uri": "https://localhost:8080/",
          "height": 124
        },
        "id": "g_-1Xos67kM4",
        "outputId": "3a05c627-cd1b-4b7e-8a54-6444cc116aaa"
      },
      "execution_count": null,
      "outputs": [
        {
          "output_type": "error",
          "ename": "SyntaxError",
          "evalue": "invalid syntax (<ipython-input-11-6ea166661329>, line 45)",
          "traceback": [
            "\u001b[0;36m  File \u001b[0;32m\"<ipython-input-11-6ea166661329>\"\u001b[0;36m, line \u001b[0;32m45\u001b[0m\n\u001b[0;31m    classifier.add(Dense(units = 6, kernel_initializer= = 'he_uniform',activation='relu',input_dim = 11))\u001b[0m\n\u001b[0m                                                        ^\u001b[0m\n\u001b[0;31mSyntaxError\u001b[0m\u001b[0;31m:\u001b[0m invalid syntax\n"
          ]
        }
      ]
    },
    {
      "cell_type": "code",
      "source": [
        "import numpy as np\n",
        "import matplotlib.pyplot as plt\n",
        "import pandas as pd\n",
        "\n",
        "# Importing the dataset\n",
        "dataset = pd.read_csv('/content/drive/MyDrive/ANN/Churn_Modelling.csv')\n",
        "X = dataset.iloc[:, 3:13]\n",
        "y = dataset.iloc[:, 13]\n",
        "\n",
        "#Create dummy variables\n",
        "geography=pd.get_dummies(X[\"Geography\"],drop_first=True)\n",
        "gender=pd.get_dummies(X['Gender'],drop_first=True)\n",
        "\n",
        "## Concatenate the Data Frames\n",
        "\n",
        "X=pd.concat([X,geography,gender],axis=1)\n",
        "\n",
        "## Drop Unnecessary columns\n",
        "X=X.drop(['Geography','Gender'],axis=1)\n",
        "\n",
        "# Splitting the dataset into the Training set and Test set\n",
        "from sklearn.model_selection import train_test_split\n",
        "X_train, X_test, y_train, y_test = train_test_split(X, y, test_size = 0.2, random_state = 0)\n",
        "\n",
        "# Feature Scaling\n",
        "from sklearn.preprocessing import StandardScaler\n",
        "sc = StandardScaler()\n",
        "X_train = sc.fit_transform(X_train)\n",
        "X_test = sc.transform(X_test)\n",
        "\n",
        "# Part 2 - Now let's make the ANN!\n",
        "\n",
        "# Importing the Keras libraries and packages\n",
        "import keras\n",
        "from keras.models import Sequential\n",
        "from keras.layers import Dense\n",
        "from keras.layers import LeakyReLU,PReLU,ELU\n",
        "from keras.layers import Dropout\n",
        "\n",
        "\n",
        "# Initialising the ANN\n",
        "classifier = Sequential()\n",
        "# Adding the input layer and the first hidden layer\n",
        "classifier.add(Dense(units = 6, kernel_initializer= 'he_uniform',activation='relu',input_dim = 11))\n",
        "\n",
        "# Adding the second hidden layer\n",
        "classifier.add(Dense(units = 6, kernel_initializer= 'he_uniform',activation='relu'))\n",
        "classifier.add(Dense(units = 6, kernel_initializer= 'he_uniform',activation='relu'))\n",
        "# Adding the output layer\n",
        "classifier.add(Dense(units = 1, kernel_initializer= 'glorot_uniform', activation = 'sigmoid'))\n",
        "\n",
        "# Compiling the ANN\n",
        "classifier.compile(optimizer = 'Adamax', loss = 'binary_crossentropy', metrics = ['accuracy'])\n",
        "\n",
        "# Fitting the ANN to the Training set\n",
        "model_history=classifier.fit(X_train, y_train,validation_split=0.33, batch_size = 10, epochs=100)\n",
        "\n",
        "# list all data in history\n",
        "\n",
        "print(model_history.history.keys())\n",
        "# summarize history for accuracy\n",
        "plt.plot(model_history.history['acc'])\n",
        "plt.plot(model_history.history['val_acc'])\n",
        "plt.title('model accuracy')\n",
        "plt.ylabel('accuracy')\n",
        "plt.xlabel('epoch')\n",
        "plt.legend(['train', 'test'], loc='upper left')\n",
        "plt.show()\n",
        "\n",
        "# summarize history for loss\n",
        "plt.plot(model_history.history['loss'])\n",
        "plt.plot(model_history.history['val_loss'])\n",
        "plt.title('model loss')\n",
        "plt.ylabel('loss')\n",
        "plt.xlabel('epoch')\n",
        "plt.legend(['train', 'test'], loc='upper left')\n",
        "plt.show()\n",
        "\n",
        "# Part 3 - Making the predictions and evaluating the model\n",
        "\n",
        "# Predicting the Test set results\n",
        "y_pred = classifier.predict(X_test)\n",
        "y_pred = (y_pred > 0.5)\n",
        "\n",
        "# Making the Confusion Matrix\n",
        "from sklearn.metrics import confusion_matrix\n",
        "cm = confusion_matrix(y_test, y_pred)\n",
        "\n",
        "# Calculate the Accuracy\n",
        "from sklearn.metrics import accuracy_score\n",
        "score=accuracy_score(y_pred,y_test)"
      ],
      "metadata": {
        "colab": {
          "base_uri": "https://localhost:8080/",
          "height": 1000
        },
        "id": "GhHG9oOw7jKk",
        "outputId": "ddbed604-225e-4fdf-f98b-dc602c020ebf"
      },
      "execution_count": null,
      "outputs": [
        {
          "output_type": "stream",
          "name": "stdout",
          "text": [
            "Epoch 1/100\n",
            "536/536 [==============================] - 6s 5ms/step - loss: 0.6626 - accuracy: 0.6462 - val_loss: 0.5888 - val_accuracy: 0.7970\n",
            "Epoch 2/100\n",
            "536/536 [==============================] - 2s 4ms/step - loss: 0.5555 - accuracy: 0.7979 - val_loss: 0.5353 - val_accuracy: 0.7955\n",
            "Epoch 3/100\n",
            "536/536 [==============================] - 3s 6ms/step - loss: 0.5158 - accuracy: 0.7964 - val_loss: 0.5036 - val_accuracy: 0.7955\n",
            "Epoch 4/100\n",
            "536/536 [==============================] - 3s 6ms/step - loss: 0.4847 - accuracy: 0.7964 - val_loss: 0.4755 - val_accuracy: 0.7959\n",
            "Epoch 5/100\n",
            "536/536 [==============================] - 2s 4ms/step - loss: 0.4627 - accuracy: 0.7988 - val_loss: 0.4604 - val_accuracy: 0.7974\n",
            "Epoch 6/100\n",
            "536/536 [==============================] - 3s 5ms/step - loss: 0.4491 - accuracy: 0.8048 - val_loss: 0.4503 - val_accuracy: 0.8031\n",
            "Epoch 7/100\n",
            "536/536 [==============================] - 3s 5ms/step - loss: 0.4387 - accuracy: 0.8117 - val_loss: 0.4419 - val_accuracy: 0.8126\n",
            "Epoch 8/100\n",
            "536/536 [==============================] - 4s 7ms/step - loss: 0.4305 - accuracy: 0.8169 - val_loss: 0.4356 - val_accuracy: 0.8145\n",
            "Epoch 9/100\n",
            "536/536 [==============================] - 3s 5ms/step - loss: 0.4235 - accuracy: 0.8218 - val_loss: 0.4300 - val_accuracy: 0.8171\n",
            "Epoch 10/100\n",
            "536/536 [==============================] - 3s 5ms/step - loss: 0.4174 - accuracy: 0.8265 - val_loss: 0.4251 - val_accuracy: 0.8190\n",
            "Epoch 11/100\n",
            "536/536 [==============================] - 3s 5ms/step - loss: 0.4121 - accuracy: 0.8319 - val_loss: 0.4206 - val_accuracy: 0.8213\n",
            "Epoch 12/100\n",
            "536/536 [==============================] - 3s 5ms/step - loss: 0.4073 - accuracy: 0.8343 - val_loss: 0.4168 - val_accuracy: 0.8217\n",
            "Epoch 13/100\n",
            "536/536 [==============================] - 4s 7ms/step - loss: 0.4032 - accuracy: 0.8358 - val_loss: 0.4129 - val_accuracy: 0.8262\n",
            "Epoch 14/100\n",
            "536/536 [==============================] - 2s 4ms/step - loss: 0.3991 - accuracy: 0.8401 - val_loss: 0.4094 - val_accuracy: 0.8270\n",
            "Epoch 15/100\n",
            "536/536 [==============================] - 4s 7ms/step - loss: 0.3954 - accuracy: 0.8418 - val_loss: 0.4056 - val_accuracy: 0.8266\n",
            "Epoch 16/100\n",
            "536/536 [==============================] - 3s 6ms/step - loss: 0.3912 - accuracy: 0.8440 - val_loss: 0.4018 - val_accuracy: 0.8270\n",
            "Epoch 17/100\n",
            "536/536 [==============================] - 4s 7ms/step - loss: 0.3869 - accuracy: 0.8462 - val_loss: 0.3977 - val_accuracy: 0.8307\n",
            "Epoch 18/100\n",
            "536/536 [==============================] - 3s 5ms/step - loss: 0.3828 - accuracy: 0.8468 - val_loss: 0.3941 - val_accuracy: 0.8311\n",
            "Epoch 19/100\n",
            "536/536 [==============================] - 3s 5ms/step - loss: 0.3788 - accuracy: 0.8475 - val_loss: 0.3904 - val_accuracy: 0.8342\n",
            "Epoch 20/100\n",
            "536/536 [==============================] - 3s 5ms/step - loss: 0.3749 - accuracy: 0.8472 - val_loss: 0.3869 - val_accuracy: 0.8357\n",
            "Epoch 21/100\n",
            "536/536 [==============================] - 3s 5ms/step - loss: 0.3715 - accuracy: 0.8511 - val_loss: 0.3840 - val_accuracy: 0.8376\n",
            "Epoch 22/100\n",
            "536/536 [==============================] - 4s 7ms/step - loss: 0.3681 - accuracy: 0.8518 - val_loss: 0.3817 - val_accuracy: 0.8391\n",
            "Epoch 23/100\n",
            "536/536 [==============================] - 2s 4ms/step - loss: 0.3653 - accuracy: 0.8537 - val_loss: 0.3794 - val_accuracy: 0.8417\n",
            "Epoch 24/100\n",
            "536/536 [==============================] - 3s 5ms/step - loss: 0.3624 - accuracy: 0.8539 - val_loss: 0.3776 - val_accuracy: 0.8444\n",
            "Epoch 25/100\n",
            "536/536 [==============================] - 3s 5ms/step - loss: 0.3599 - accuracy: 0.8571 - val_loss: 0.3759 - val_accuracy: 0.8448\n",
            "Epoch 26/100\n",
            "536/536 [==============================] - 3s 5ms/step - loss: 0.3576 - accuracy: 0.8567 - val_loss: 0.3742 - val_accuracy: 0.8474\n",
            "Epoch 27/100\n",
            "536/536 [==============================] - 4s 7ms/step - loss: 0.3555 - accuracy: 0.8593 - val_loss: 0.3728 - val_accuracy: 0.8493\n",
            "Epoch 28/100\n",
            "536/536 [==============================] - 3s 5ms/step - loss: 0.3535 - accuracy: 0.8584 - val_loss: 0.3721 - val_accuracy: 0.8466\n",
            "Epoch 29/100\n",
            "536/536 [==============================] - 3s 5ms/step - loss: 0.3519 - accuracy: 0.8604 - val_loss: 0.3706 - val_accuracy: 0.8512\n",
            "Epoch 30/100\n",
            "536/536 [==============================] - 2s 5ms/step - loss: 0.3504 - accuracy: 0.8606 - val_loss: 0.3700 - val_accuracy: 0.8512\n",
            "Epoch 31/100\n",
            "536/536 [==============================] - 3s 5ms/step - loss: 0.3490 - accuracy: 0.8610 - val_loss: 0.3690 - val_accuracy: 0.8512\n",
            "Epoch 32/100\n",
            "536/536 [==============================] - 3s 6ms/step - loss: 0.3479 - accuracy: 0.8619 - val_loss: 0.3679 - val_accuracy: 0.8512\n",
            "Epoch 33/100\n",
            "536/536 [==============================] - 3s 5ms/step - loss: 0.3468 - accuracy: 0.8625 - val_loss: 0.3676 - val_accuracy: 0.8497\n",
            "Epoch 34/100\n",
            "536/536 [==============================] - 3s 5ms/step - loss: 0.3460 - accuracy: 0.8628 - val_loss: 0.3669 - val_accuracy: 0.8501\n",
            "Epoch 35/100\n",
            "536/536 [==============================] - 2s 5ms/step - loss: 0.3450 - accuracy: 0.8627 - val_loss: 0.3663 - val_accuracy: 0.8485\n",
            "Epoch 36/100\n",
            "536/536 [==============================] - 3s 6ms/step - loss: 0.3445 - accuracy: 0.8621 - val_loss: 0.3657 - val_accuracy: 0.8493\n",
            "Epoch 37/100\n",
            "536/536 [==============================] - 3s 6ms/step - loss: 0.3436 - accuracy: 0.8643 - val_loss: 0.3650 - val_accuracy: 0.8504\n",
            "Epoch 38/100\n",
            "536/536 [==============================] - 3s 5ms/step - loss: 0.3430 - accuracy: 0.8634 - val_loss: 0.3645 - val_accuracy: 0.8501\n",
            "Epoch 39/100\n",
            "536/536 [==============================] - 2s 5ms/step - loss: 0.3422 - accuracy: 0.8647 - val_loss: 0.3642 - val_accuracy: 0.8516\n",
            "Epoch 40/100\n",
            "536/536 [==============================] - 2s 5ms/step - loss: 0.3416 - accuracy: 0.8630 - val_loss: 0.3641 - val_accuracy: 0.8508\n",
            "Epoch 41/100\n",
            "536/536 [==============================] - 3s 6ms/step - loss: 0.3410 - accuracy: 0.8634 - val_loss: 0.3636 - val_accuracy: 0.8519\n",
            "Epoch 42/100\n",
            "536/536 [==============================] - 3s 6ms/step - loss: 0.3405 - accuracy: 0.8640 - val_loss: 0.3633 - val_accuracy: 0.8527\n",
            "Epoch 43/100\n",
            "536/536 [==============================] - 2s 4ms/step - loss: 0.3400 - accuracy: 0.8638 - val_loss: 0.3632 - val_accuracy: 0.8535\n",
            "Epoch 44/100\n",
            "536/536 [==============================] - 2s 5ms/step - loss: 0.3394 - accuracy: 0.8638 - val_loss: 0.3629 - val_accuracy: 0.8527\n",
            "Epoch 45/100\n",
            "536/536 [==============================] - 2s 4ms/step - loss: 0.3388 - accuracy: 0.8647 - val_loss: 0.3625 - val_accuracy: 0.8516\n",
            "Epoch 46/100\n",
            "536/536 [==============================] - 3s 6ms/step - loss: 0.3384 - accuracy: 0.8656 - val_loss: 0.3625 - val_accuracy: 0.8542\n",
            "Epoch 47/100\n",
            "536/536 [==============================] - 3s 6ms/step - loss: 0.3379 - accuracy: 0.8649 - val_loss: 0.3621 - val_accuracy: 0.8516\n",
            "Epoch 48/100\n",
            "536/536 [==============================] - 3s 5ms/step - loss: 0.3376 - accuracy: 0.8640 - val_loss: 0.3619 - val_accuracy: 0.8512\n",
            "Epoch 49/100\n",
            "536/536 [==============================] - 2s 5ms/step - loss: 0.3370 - accuracy: 0.8658 - val_loss: 0.3623 - val_accuracy: 0.8542\n",
            "Epoch 50/100\n",
            "536/536 [==============================] - 2s 5ms/step - loss: 0.3369 - accuracy: 0.8647 - val_loss: 0.3617 - val_accuracy: 0.8508\n",
            "Epoch 51/100\n",
            "536/536 [==============================] - 3s 6ms/step - loss: 0.3366 - accuracy: 0.8642 - val_loss: 0.3622 - val_accuracy: 0.8554\n",
            "Epoch 52/100\n",
            "536/536 [==============================] - 4s 7ms/step - loss: 0.3360 - accuracy: 0.8658 - val_loss: 0.3623 - val_accuracy: 0.8501\n",
            "Epoch 53/100\n",
            "536/536 [==============================] - 3s 5ms/step - loss: 0.3359 - accuracy: 0.8647 - val_loss: 0.3619 - val_accuracy: 0.8546\n",
            "Epoch 54/100\n",
            "536/536 [==============================] - 3s 5ms/step - loss: 0.3359 - accuracy: 0.8645 - val_loss: 0.3616 - val_accuracy: 0.8493\n",
            "Epoch 55/100\n",
            "536/536 [==============================] - 3s 5ms/step - loss: 0.3356 - accuracy: 0.8643 - val_loss: 0.3616 - val_accuracy: 0.8508\n",
            "Epoch 56/100\n",
            "536/536 [==============================] - 4s 7ms/step - loss: 0.3354 - accuracy: 0.8653 - val_loss: 0.3615 - val_accuracy: 0.8493\n",
            "Epoch 57/100\n",
            "536/536 [==============================] - 2s 5ms/step - loss: 0.3351 - accuracy: 0.8645 - val_loss: 0.3615 - val_accuracy: 0.8497\n",
            "Epoch 58/100\n",
            "536/536 [==============================] - 3s 5ms/step - loss: 0.3349 - accuracy: 0.8643 - val_loss: 0.3617 - val_accuracy: 0.8523\n",
            "Epoch 59/100\n",
            "536/536 [==============================] - 3s 5ms/step - loss: 0.3347 - accuracy: 0.8636 - val_loss: 0.3614 - val_accuracy: 0.8519\n",
            "Epoch 60/100\n",
            "536/536 [==============================] - 3s 5ms/step - loss: 0.3345 - accuracy: 0.8647 - val_loss: 0.3614 - val_accuracy: 0.8531\n",
            "Epoch 61/100\n",
            "536/536 [==============================] - 3s 6ms/step - loss: 0.3343 - accuracy: 0.8649 - val_loss: 0.3612 - val_accuracy: 0.8523\n",
            "Epoch 62/100\n",
            "536/536 [==============================] - 2s 4ms/step - loss: 0.3339 - accuracy: 0.8666 - val_loss: 0.3612 - val_accuracy: 0.8535\n",
            "Epoch 63/100\n",
            "536/536 [==============================] - 3s 5ms/step - loss: 0.3337 - accuracy: 0.8653 - val_loss: 0.3613 - val_accuracy: 0.8527\n",
            "Epoch 64/100\n",
            "536/536 [==============================] - 2s 5ms/step - loss: 0.3339 - accuracy: 0.8653 - val_loss: 0.3610 - val_accuracy: 0.8531\n",
            "Epoch 65/100\n",
            "536/536 [==============================] - 3s 5ms/step - loss: 0.3333 - accuracy: 0.8655 - val_loss: 0.3609 - val_accuracy: 0.8523\n",
            "Epoch 66/100\n",
            "536/536 [==============================] - 3s 6ms/step - loss: 0.3330 - accuracy: 0.8640 - val_loss: 0.3611 - val_accuracy: 0.8538\n",
            "Epoch 67/100\n",
            "536/536 [==============================] - 2s 5ms/step - loss: 0.3330 - accuracy: 0.8656 - val_loss: 0.3607 - val_accuracy: 0.8523\n",
            "Epoch 68/100\n",
            "536/536 [==============================] - 3s 5ms/step - loss: 0.3328 - accuracy: 0.8655 - val_loss: 0.3608 - val_accuracy: 0.8527\n",
            "Epoch 69/100\n",
            "536/536 [==============================] - 3s 5ms/step - loss: 0.3326 - accuracy: 0.8649 - val_loss: 0.3607 - val_accuracy: 0.8519\n",
            "Epoch 70/100\n",
            "536/536 [==============================] - 3s 5ms/step - loss: 0.3326 - accuracy: 0.8642 - val_loss: 0.3608 - val_accuracy: 0.8519\n",
            "Epoch 71/100\n",
            "536/536 [==============================] - 3s 6ms/step - loss: 0.3323 - accuracy: 0.8655 - val_loss: 0.3606 - val_accuracy: 0.8546\n",
            "Epoch 72/100\n",
            "536/536 [==============================] - 3s 5ms/step - loss: 0.3321 - accuracy: 0.8645 - val_loss: 0.3612 - val_accuracy: 0.8550\n",
            "Epoch 73/100\n",
            "536/536 [==============================] - 2s 5ms/step - loss: 0.3320 - accuracy: 0.8655 - val_loss: 0.3609 - val_accuracy: 0.8519\n",
            "Epoch 74/100\n",
            "536/536 [==============================] - 2s 5ms/step - loss: 0.3320 - accuracy: 0.8653 - val_loss: 0.3607 - val_accuracy: 0.8527\n",
            "Epoch 75/100\n",
            "536/536 [==============================] - 3s 6ms/step - loss: 0.3320 - accuracy: 0.8640 - val_loss: 0.3607 - val_accuracy: 0.8519\n",
            "Epoch 76/100\n",
            "536/536 [==============================] - 3s 6ms/step - loss: 0.3318 - accuracy: 0.8643 - val_loss: 0.3608 - val_accuracy: 0.8516\n",
            "Epoch 77/100\n",
            "536/536 [==============================] - 3s 5ms/step - loss: 0.3316 - accuracy: 0.8664 - val_loss: 0.3609 - val_accuracy: 0.8527\n",
            "Epoch 78/100\n",
            "536/536 [==============================] - 3s 5ms/step - loss: 0.3315 - accuracy: 0.8651 - val_loss: 0.3608 - val_accuracy: 0.8535\n",
            "Epoch 79/100\n",
            "536/536 [==============================] - 2s 5ms/step - loss: 0.3312 - accuracy: 0.8662 - val_loss: 0.3611 - val_accuracy: 0.8542\n",
            "Epoch 80/100\n",
            "536/536 [==============================] - 3s 6ms/step - loss: 0.3312 - accuracy: 0.8651 - val_loss: 0.3607 - val_accuracy: 0.8523\n",
            "Epoch 81/100\n",
            "536/536 [==============================] - 3s 5ms/step - loss: 0.3311 - accuracy: 0.8656 - val_loss: 0.3611 - val_accuracy: 0.8531\n",
            "Epoch 82/100\n",
            "536/536 [==============================] - 3s 5ms/step - loss: 0.3309 - accuracy: 0.8662 - val_loss: 0.3611 - val_accuracy: 0.8550\n",
            "Epoch 83/100\n",
            "536/536 [==============================] - 3s 5ms/step - loss: 0.3308 - accuracy: 0.8649 - val_loss: 0.3613 - val_accuracy: 0.8557\n",
            "Epoch 84/100\n",
            "536/536 [==============================] - 3s 5ms/step - loss: 0.3305 - accuracy: 0.8653 - val_loss: 0.3612 - val_accuracy: 0.8523\n",
            "Epoch 85/100\n",
            "536/536 [==============================] - 4s 7ms/step - loss: 0.3307 - accuracy: 0.8664 - val_loss: 0.3611 - val_accuracy: 0.8527\n",
            "Epoch 86/100\n",
            "536/536 [==============================] - 3s 5ms/step - loss: 0.3304 - accuracy: 0.8655 - val_loss: 0.3613 - val_accuracy: 0.8523\n",
            "Epoch 87/100\n",
            "536/536 [==============================] - 2s 5ms/step - loss: 0.3305 - accuracy: 0.8658 - val_loss: 0.3614 - val_accuracy: 0.8546\n",
            "Epoch 88/100\n",
            "536/536 [==============================] - 2s 5ms/step - loss: 0.3303 - accuracy: 0.8658 - val_loss: 0.3612 - val_accuracy: 0.8527\n",
            "Epoch 89/100\n",
            "536/536 [==============================] - 3s 5ms/step - loss: 0.3302 - accuracy: 0.8675 - val_loss: 0.3612 - val_accuracy: 0.8527\n",
            "Epoch 90/100\n",
            "536/536 [==============================] - 4s 7ms/step - loss: 0.3301 - accuracy: 0.8671 - val_loss: 0.3615 - val_accuracy: 0.8554\n",
            "Epoch 91/100\n",
            "536/536 [==============================] - 2s 5ms/step - loss: 0.3299 - accuracy: 0.8651 - val_loss: 0.3625 - val_accuracy: 0.8554\n",
            "Epoch 92/100\n",
            "536/536 [==============================] - 2s 5ms/step - loss: 0.3298 - accuracy: 0.8670 - val_loss: 0.3613 - val_accuracy: 0.8542\n",
            "Epoch 93/100\n",
            "536/536 [==============================] - 2s 5ms/step - loss: 0.3297 - accuracy: 0.8673 - val_loss: 0.3612 - val_accuracy: 0.8546\n",
            "Epoch 94/100\n",
            "536/536 [==============================] - 3s 5ms/step - loss: 0.3296 - accuracy: 0.8662 - val_loss: 0.3616 - val_accuracy: 0.8565\n",
            "Epoch 95/100\n",
            "536/536 [==============================] - 4s 7ms/step - loss: 0.3296 - accuracy: 0.8660 - val_loss: 0.3617 - val_accuracy: 0.8542\n",
            "Epoch 96/100\n",
            "536/536 [==============================] - 3s 5ms/step - loss: 0.3291 - accuracy: 0.8671 - val_loss: 0.3617 - val_accuracy: 0.8535\n",
            "Epoch 97/100\n",
            "536/536 [==============================] - 2s 5ms/step - loss: 0.3295 - accuracy: 0.8673 - val_loss: 0.3616 - val_accuracy: 0.8557\n",
            "Epoch 98/100\n",
            "536/536 [==============================] - 3s 5ms/step - loss: 0.3293 - accuracy: 0.8666 - val_loss: 0.3614 - val_accuracy: 0.8557\n",
            "Epoch 99/100\n",
            "536/536 [==============================] - 3s 5ms/step - loss: 0.3291 - accuracy: 0.8660 - val_loss: 0.3616 - val_accuracy: 0.8538\n",
            "Epoch 100/100\n",
            "536/536 [==============================] - 4s 7ms/step - loss: 0.3293 - accuracy: 0.8668 - val_loss: 0.3616 - val_accuracy: 0.8538\n",
            "dict_keys(['loss', 'accuracy', 'val_loss', 'val_accuracy'])\n"
          ]
        },
        {
          "output_type": "error",
          "ename": "KeyError",
          "evalue": "'acc'",
          "traceback": [
            "\u001b[0;31m---------------------------------------------------------------------------\u001b[0m",
            "\u001b[0;31mKeyError\u001b[0m                                  Traceback (most recent call last)",
            "\u001b[0;32m<ipython-input-14-248a71ea13c9>\u001b[0m in \u001b[0;36m<cell line: 62>\u001b[0;34m()\u001b[0m\n\u001b[1;32m     60\u001b[0m \u001b[0mprint\u001b[0m\u001b[0;34m(\u001b[0m\u001b[0mmodel_history\u001b[0m\u001b[0;34m.\u001b[0m\u001b[0mhistory\u001b[0m\u001b[0;34m.\u001b[0m\u001b[0mkeys\u001b[0m\u001b[0;34m(\u001b[0m\u001b[0;34m)\u001b[0m\u001b[0;34m)\u001b[0m\u001b[0;34m\u001b[0m\u001b[0;34m\u001b[0m\u001b[0m\n\u001b[1;32m     61\u001b[0m \u001b[0;31m# summarize history for accuracy\u001b[0m\u001b[0;34m\u001b[0m\u001b[0;34m\u001b[0m\u001b[0m\n\u001b[0;32m---> 62\u001b[0;31m \u001b[0mplt\u001b[0m\u001b[0;34m.\u001b[0m\u001b[0mplot\u001b[0m\u001b[0;34m(\u001b[0m\u001b[0mmodel_history\u001b[0m\u001b[0;34m.\u001b[0m\u001b[0mhistory\u001b[0m\u001b[0;34m[\u001b[0m\u001b[0;34m'acc'\u001b[0m\u001b[0;34m]\u001b[0m\u001b[0;34m)\u001b[0m\u001b[0;34m\u001b[0m\u001b[0;34m\u001b[0m\u001b[0m\n\u001b[0m\u001b[1;32m     63\u001b[0m \u001b[0mplt\u001b[0m\u001b[0;34m.\u001b[0m\u001b[0mplot\u001b[0m\u001b[0;34m(\u001b[0m\u001b[0mmodel_history\u001b[0m\u001b[0;34m.\u001b[0m\u001b[0mhistory\u001b[0m\u001b[0;34m[\u001b[0m\u001b[0;34m'val_acc'\u001b[0m\u001b[0;34m]\u001b[0m\u001b[0;34m)\u001b[0m\u001b[0;34m\u001b[0m\u001b[0;34m\u001b[0m\u001b[0m\n\u001b[1;32m     64\u001b[0m \u001b[0mplt\u001b[0m\u001b[0;34m.\u001b[0m\u001b[0mtitle\u001b[0m\u001b[0;34m(\u001b[0m\u001b[0;34m'model accuracy'\u001b[0m\u001b[0;34m)\u001b[0m\u001b[0;34m\u001b[0m\u001b[0;34m\u001b[0m\u001b[0m\n",
            "\u001b[0;31mKeyError\u001b[0m: 'acc'"
          ]
        }
      ]
    },
    {
      "cell_type": "code",
      "source": [],
      "metadata": {
        "id": "XBo7la7B9wmj"
      },
      "execution_count": null,
      "outputs": []
    }
  ]
}